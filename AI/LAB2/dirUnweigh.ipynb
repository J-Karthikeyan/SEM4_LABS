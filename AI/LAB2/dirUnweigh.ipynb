{
 "cells": [
  {
   "cell_type": "markdown",
   "metadata": {},
   "source": [
    "## Directed Unweighted Graph"
   ]
  },
  {
   "cell_type": "code",
   "execution_count": 15,
   "metadata": {},
   "outputs": [],
   "source": [
    "class Graph:\n",
    "    def __init__(self):\n",
    "        self.adj_list = {}\n",
    "    def connect(self, from_vertex, to_vertex):\n",
    "        if from_vertex not in self.adj_list:\n",
    "            self.adj_list.update({from_vertex : [to_vertex]})\n",
    "        else:\n",
    "            self.adj_list[from_vertex].append(to_vertex)\n",
    "    \n",
    "    def display(self):\n",
    "        for key in self.adj_list:\n",
    "            for i in self.adj_list[key]:\n",
    "                print(f\"({key}-->{i})\",end=\" \")\n",
    "            print(\"\\n\")\n"
   ]
  },
  {
   "cell_type": "code",
   "execution_count": 17,
   "metadata": {},
   "outputs": [
    {
     "name": "stdout",
     "output_type": "stream",
     "text": [
      "(0-->1) \n",
      "\n",
      "(1-->2) \n",
      "\n",
      "(2-->0) (2-->1) \n",
      "\n",
      "(3-->2) \n",
      "\n",
      "(4-->5) \n",
      "\n",
      "(5-->4) \n",
      "\n"
     ]
    }
   ],
   "source": [
    "class main:\n",
    "    g = Graph()\n",
    "    g.connect(0,1)\n",
    "    g.connect(1,2)\n",
    "    g.connect(2,0)\n",
    "    g.connect(2,1)\n",
    "    g.connect(3,2)\n",
    "    g.connect(4,5)\n",
    "    g.connect(5,4)\n",
    "    g.display()\n"
   ]
  }
 ],
 "metadata": {
  "kernelspec": {
   "display_name": "Python 3",
   "language": "python",
   "name": "python3"
  },
  "language_info": {
   "codemirror_mode": {
    "name": "ipython",
    "version": 3
   },
   "file_extension": ".py",
   "mimetype": "text/x-python",
   "name": "python",
   "nbconvert_exporter": "python",
   "pygments_lexer": "ipython3",
   "version": "3.10.6"
  }
 },
 "nbformat": 4,
 "nbformat_minor": 2
}
