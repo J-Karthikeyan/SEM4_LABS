{
 "cells": [
  {
   "cell_type": "markdown",
   "metadata": {},
   "source": [
    "## STACK"
   ]
  },
  {
   "cell_type": "code",
   "execution_count": 1,
   "metadata": {},
   "outputs": [],
   "source": [
    "class Stack:\n",
    "    def __init__(self):\n",
    "        self.stack = []\n",
    "\n",
    "    def Push(self, element):\n",
    "        self.stack.append(element)\n",
    "\n",
    "    def Pop(self):\n",
    "        return self.stack.pop() if self.stack else None\n",
    "    \n",
    "    def seek(self):\n",
    "        return self.stack[-1] if self.stack else None\n",
    "    \n",
    "    def is_empty(self):\n",
    "        return not self.stack    \n"
   ]
  },
  {
   "cell_type": "markdown",
   "metadata": {},
   "source": [
    "## QUEUE \n",
    "### (with two stack)"
   ]
  },
  {
   "cell_type": "code",
   "execution_count": 4,
   "metadata": {},
   "outputs": [],
   "source": [
    "class Queue:\n",
    "    def __init__(self):\n",
    "        self.stack1 = Stack()\n",
    "        self.stack2 = Stack()\n",
    "    \n",
    "    def enqueue(self, element):\n",
    "        self.stack1.Push(element)\n",
    "    \n",
    "    def dequeue(self):\n",
    "        while not self.stack1.is_empty():\n",
    "            self.stack2.Push(self.stack1.Pop())\n",
    "        \n",
    "        element = self.stack2.Pop() if self.stack2 else None\n",
    "\n",
    "        while not self.stack2.is_empty():\n",
    "            self.stack1.Push(self.stack2.Pop())\n",
    "        \n",
    "        return element\n"
   ]
  },
  {
   "cell_type": "markdown",
   "metadata": {},
   "source": [
    "## Main Function"
   ]
  },
  {
   "cell_type": "code",
   "execution_count": 8,
   "metadata": {},
   "outputs": [
    {
     "name": "stdout",
     "output_type": "stream",
     "text": [
      "1\n",
      "3\n"
     ]
    }
   ],
   "source": [
    "class main:\n",
    "    q = Queue()\n",
    "    q.enqueue(1)\n",
    "    q.enqueue(3)\n",
    "    q.enqueue(4)\n",
    "    q.enqueue(5)\n",
    "    print(q.dequeue())\n",
    "    print(q.dequeue())\n",
    "\n",
    "if __name__ == \"__main__\":\n",
    "    main()\n"
   ]
  }
 ],
 "metadata": {
  "kernelspec": {
   "display_name": "Python 3",
   "language": "python",
   "name": "python3"
  },
  "language_info": {
   "codemirror_mode": {
    "name": "ipython",
    "version": 3
   },
   "file_extension": ".py",
   "mimetype": "text/x-python",
   "name": "python",
   "nbconvert_exporter": "python",
   "pygments_lexer": "ipython3",
   "version": "3.10.6"
  }
 },
 "nbformat": 4,
 "nbformat_minor": 2
}
