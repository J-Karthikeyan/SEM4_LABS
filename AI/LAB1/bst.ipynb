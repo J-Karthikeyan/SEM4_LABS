{
 "cells": [
  {
   "cell_type": "markdown",
   "metadata": {},
   "source": [
    "# Binary Search Tree"
   ]
  },
  {
   "cell_type": "markdown",
   "metadata": {},
   "source": [
    "#### Structure"
   ]
  },
  {
   "cell_type": "code",
   "execution_count": 7,
   "metadata": {},
   "outputs": [],
   "source": [
    "class Node:\n",
    "    def __init__(self, item):\n",
    "        self.left = None\n",
    "        self.right = None\n",
    "        self.value = item\n",
    "\n",
    "    def insert(self, item):\n",
    "        if item < self.value:\n",
    "            if not self.left:\n",
    "                self.left = Node(item)\n",
    "            else:\n",
    "                self.left.insert(item)\n",
    "        else:\n",
    "            if not self.right:\n",
    "                self.right = Node(item)\n",
    "            else:\n",
    "                self.right.insert(item)\n",
    "    \n",
    "    def inorder(self):\n",
    "        if self.left:\n",
    "            self.left.inorder()\n",
    "        print(self.value, end=\" \")\n",
    "        if self.right:\n",
    "            self.right.inorder()\n",
    "\n",
    "    def preorder(self):\n",
    "        print(self.value, end=\" \")\n",
    "        if self.left:\n",
    "            self.left.preorder()\n",
    "        if self.right:\n",
    "            self.right.preorder()\n",
    "    \n",
    "    def postorder(self):\n",
    "        if self.left:\n",
    "            self.left.postorder()\n",
    "        if self.right:\n",
    "            self.right.postorder()\n",
    "        print(self.value, end=\" \")\n"
   ]
  },
  {
   "cell_type": "markdown",
   "metadata": {},
   "source": [
    "#### Main function"
   ]
  },
  {
   "cell_type": "code",
   "execution_count": 10,
   "metadata": {},
   "outputs": [
    {
     "name": "stdout",
     "output_type": "stream",
     "text": [
      "Enter the elements in one line : \n",
      "Inorder traversal\n",
      "4 10 12 15 18 22 24 25 31 35 44 50 66 70 90 \n",
      "Preorder traversal\n",
      "18 15 4 10 12 24 22 50 25 44 31 35 66 70 90 \n",
      "Postorder traversal\n",
      "12 10 4 15 22 35 31 44 25 90 70 66 50 24 18 "
     ]
    }
   ],
   "source": [
    "class main:\n",
    "    print(\"Enter the elements in one line : \")\n",
    "    data = list(map(int, input().split()))\n",
    "    \n",
    "    tree = Node(data[0])\n",
    "\n",
    "    for i in data[1:] :\n",
    "        tree.insert(i)\n",
    "    \n",
    "    print(\"Inorder traversal\")\n",
    "    tree.inorder()\n",
    "    print(\"\\nPreorder traversal\")\n",
    "    tree.preorder()\n",
    "    print(\"\\nPostorder traversal\")\n",
    "    tree.postorder()\n",
    "\n",
    "if __name__ == \"__main__\":\n",
    "    main()\n"
   ]
  },
  {
   "cell_type": "code",
   "execution_count": null,
   "metadata": {},
   "outputs": [],
   "source": []
  }
 ],
 "metadata": {
  "kernelspec": {
   "display_name": "Python 3",
   "language": "python",
   "name": "python3"
  },
  "language_info": {
   "codemirror_mode": {
    "name": "ipython",
    "version": 3
   },
   "file_extension": ".py",
   "mimetype": "text/x-python",
   "name": "python",
   "nbconvert_exporter": "python",
   "pygments_lexer": "ipython3",
   "version": "3.10.6"
  }
 },
 "nbformat": 4,
 "nbformat_minor": 2
}
