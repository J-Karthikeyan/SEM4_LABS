{
 "cells": [
  {
   "cell_type": "markdown",
   "metadata": {},
   "source": [
    "# Finding Euclidean distance"
   ]
  },
  {
   "cell_type": "markdown",
   "metadata": {},
   "source": [
    "#### Bubble sort"
   ]
  },
  {
   "cell_type": "code",
   "execution_count": 7,
   "metadata": {},
   "outputs": [],
   "source": [
    "def bubble_sort(arr):\n",
    "    n = len(arr)\n",
    "    for i in range(n):\n",
    "        for j in range(n-i-1):\n",
    "            if arr[j] > arr[j+1]:\n",
    "                arr[j],arr[j+1] = arr[j+1],arr[j]\n",
    "    return arr\n"
   ]
  },
  {
   "cell_type": "markdown",
   "metadata": {},
   "source": [
    "#### Distance calculation"
   ]
  },
  {
   "cell_type": "code",
   "execution_count": 8,
   "metadata": {},
   "outputs": [
    {
     "name": "stdout",
     "output_type": "stream",
     "text": [
      "Enter 2 points at a time\n",
      "points in X : \n",
      "[(1, 2), (7, 2), (0, 3)]\n",
      "points in Y : \n",
      "[(9, 7), (8, 1), (5, 4)]\n",
      "distance : \n",
      "[9.433981132056603, 1.4142135623730951, 5.0990195135927845]\n",
      "bubble sorted distance : \n",
      "[1.4142135623730951, 5.0990195135927845, 9.433981132056603]\n"
     ]
    }
   ],
   "source": [
    "import math\n",
    "\n",
    "n = int(input(\"Enter the number of set of points: \"))\n",
    "\n",
    "X = []\n",
    "Y = []\n",
    "\n",
    "print(\"Enter 2 points at a time\")\n",
    "for _ in range(n):\n",
    "    p1 = tuple(map(int, input().split()))\n",
    "    p2 = tuple(map(int, input().split()))\n",
    "    X.append(p1)\n",
    "    Y.append(p2)\n",
    "\n",
    "print(\"points in X : \",str(X))\n",
    "print(\"points in Y : \",str(Y))\n",
    "\n",
    "\n",
    "distance = []\n",
    "for i,j in zip(X,Y):\n",
    "    distance.append(math.sqrt((i[0] - j[0])**2 + (i[1] - j[1])**2))\n",
    "\n",
    "print(\"distance : \",str(distance))\n",
    "print(\"bubble sorted distance : \",str(bubble_sort(distance)))\n"
   ]
  },
  {
   "cell_type": "code",
   "execution_count": null,
   "metadata": {},
   "outputs": [],
   "source": []
  }
 ],
 "metadata": {
  "kernelspec": {
   "display_name": "Python 3",
   "language": "python",
   "name": "python3"
  },
  "language_info": {
   "codemirror_mode": {
    "name": "ipython",
    "version": 3
   },
   "file_extension": ".py",
   "mimetype": "text/x-python",
   "name": "python",
   "nbconvert_exporter": "python",
   "pygments_lexer": "ipython3",
   "version": "3.10.6"
  }
 },
 "nbformat": 4,
 "nbformat_minor": 2
}
