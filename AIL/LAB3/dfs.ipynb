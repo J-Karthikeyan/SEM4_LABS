{
 "cells": [
  {
   "cell_type": "code",
   "execution_count": 1,
   "metadata": {},
   "outputs": [],
   "source": [
    "class Graph:\n",
    "    def __init__(self):\n",
    "        self.adj_list = {}\n",
    "    def connect(self, from_vertex, to_vertex):\n",
    "        self.adj_list.setdefault(from_vertex,[]).append(to_vertex)\n",
    "\n",
    "    '''def display(self):\n",
    "        for key in self.adj_list:\n",
    "            for i in self.adj_list[key]:\n",
    "                print(f\"({key}-->{i})\",end=\" \")\n",
    "            print(\"\\n\")'''\n",
    "    \n",
    "    def DFS(self, u, ):\n"
   ]
  },
  {
   "cell_type": "code",
   "execution_count": 3,
   "metadata": {},
   "outputs": [
    {
     "name": "stdout",
     "output_type": "stream",
     "text": [
      "(2-->3) \n",
      "\n",
      "(3-->1) \n",
      "\n",
      "(4-->0) (4-->1) \n",
      "\n",
      "(5-->0) (5-->2) \n",
      "\n"
     ]
    }
   ],
   "source": [
    "if __name__ == \"__main__\":\n",
    "    g = Graph()\n",
    "    for i in [(2,3), (3,1), (4,0), (4,1), (5,0), (5,2)] : \n",
    "        g.connect(i[0], i[1])\n",
    "    g.display()\n",
    "    "
   ]
  },
  {
   "cell_type": "code",
   "execution_count": null,
   "metadata": {},
   "outputs": [],
   "source": []
  }
 ],
 "metadata": {
  "kernelspec": {
   "display_name": "Python 3",
   "language": "python",
   "name": "python3"
  },
  "language_info": {
   "codemirror_mode": {
    "name": "ipython",
    "version": 3
   },
   "file_extension": ".py",
   "mimetype": "text/x-python",
   "name": "python",
   "nbconvert_exporter": "python",
   "pygments_lexer": "ipython3",
   "version": "3.11.7"
  }
 },
 "nbformat": 4,
 "nbformat_minor": 2
}
