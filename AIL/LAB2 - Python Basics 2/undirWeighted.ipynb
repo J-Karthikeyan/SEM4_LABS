{
 "cells": [
  {
   "cell_type": "markdown",
   "metadata": {},
   "source": [
    "## Undirected Weighted Graph"
   ]
  },
  {
   "cell_type": "code",
   "execution_count": 15,
   "metadata": {},
   "outputs": [],
   "source": [
    "class Graph:\n",
    "    def __init__(self):\n",
    "        self.adj_list = dict()\n",
    "\n",
    "    def connect(self, vertex1, vertex2, weight):\n",
    "        self.adj_list.setdefault(vertex1, []).append([vertex2, weight])\n",
    "        self.adj_list.setdefault(vertex2, []).append([vertex1, weight])\n",
    "    \n",
    "    def matrix(self):\n",
    "        vertices = len(self.adj_list)\n",
    "        mapping = dict(zip(sorted(self.adj_list.keys()), range(vertices)))\n",
    "        mat = [[0]*vertices for _ in range(vertices)]\n",
    "        for key in self.adj_list:\n",
    "            for i in self.adj_list[key]:\n",
    "                mat[mapping[key]][mapping[i[0]]] = i[1]\n",
    "        return mat\n",
    "    \n",
    "    \n",
    "    def display(self):\n",
    "        for key,val in self.adj_list.items():\n",
    "            print(f\"{key} : {val}\")\n"
   ]
  },
  {
   "cell_type": "code",
   "execution_count": 16,
   "metadata": {},
   "outputs": [
    {
     "name": "stdout",
     "output_type": "stream",
     "text": [
      "[[0, 1, 1, 0, 1], [1, 0, 1, 0, 0], [1, 1, 0, 1, 1], [0, 0, 1, 0, 0], [1, 0, 1, 0, 0]]\n",
      "\n",
      "A : [['B', 1], ['C', 1], ['E', 1]]\n",
      "B : [['A', 1], ['C', 1]]\n",
      "C : [['A', 1], ['B', 1], ['D', 1], ['E', 1]]\n",
      "E : [['A', 1], ['C', 1]]\n",
      "D : [['C', 1]]\n"
     ]
    }
   ],
   "source": [
    "class main:\n",
    "    g = Graph()\n",
    "    g.connect(\"A\",\"B\",1)\n",
    "    g.connect(\"A\",\"C\",1)\n",
    "    g.connect(\"A\",\"E\",1)\n",
    "    g.connect(\"B\",\"C\",1)\n",
    "    g.connect(\"C\",\"D\",1)\n",
    "    g.connect(\"C\",\"E\",1)\n",
    "    print(g.matrix(), end=\"\\n\\n\")\n",
    "    g.display()\n"
   ]
  },
  {
   "cell_type": "code",
   "execution_count": null,
   "metadata": {},
   "outputs": [],
   "source": []
  }
 ],
 "metadata": {
  "kernelspec": {
   "display_name": "Python 3",
   "language": "python",
   "name": "python3"
  },
  "language_info": {
   "codemirror_mode": {
    "name": "ipython",
    "version": 3
   },
   "file_extension": ".py",
   "mimetype": "text/x-python",
   "name": "python",
   "nbconvert_exporter": "python",
   "pygments_lexer": "ipython3",
   "version": "3.10.6"
  }
 },
 "nbformat": 4,
 "nbformat_minor": 2
}
