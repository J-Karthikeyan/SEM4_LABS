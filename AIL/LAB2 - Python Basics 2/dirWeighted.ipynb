{
 "cells": [
  {
   "cell_type": "markdown",
   "metadata": {},
   "source": [
    "## Directed Weighted Graph"
   ]
  },
  {
   "cell_type": "code",
   "execution_count": 1,
   "metadata": {},
   "outputs": [],
   "source": [
    "class Graph:\n",
    "    def __init__(self):\n",
    "        self.adj_list = {}\n",
    "\n",
    "    def connect(self, from_vertex, to_vertex, weight):\n",
    "        self.adj_list.setdefault(from_vertex, []).append([to_vertex,weight])\n",
    "\n",
    "    def display(self):\n",
    "        for key in self.adj_list:\n",
    "            for i in self.adj_list[key]:\n",
    "                print(f\"({key}-->{i[0]},{i[1]})\", end=\" \")\n",
    "            print(\"\\n\")\n"
   ]
  },
  {
   "cell_type": "code",
   "execution_count": 2,
   "metadata": {},
   "outputs": [
    {
     "name": "stdout",
     "output_type": "stream",
     "text": [
      "(0-->1,6) \n",
      "\n",
      "(1-->2,7) \n",
      "\n",
      "(2-->0,5) (2-->1,4) \n",
      "\n",
      "(3-->2,10) \n",
      "\n",
      "(4-->5,1) \n",
      "\n",
      "(5-->4,3) \n",
      "\n"
     ]
    }
   ],
   "source": [
    "class main:\n",
    "    g = Graph()\n",
    "    g.connect(0,1,6)\n",
    "    g.connect(1,2,7)\n",
    "    g.connect(2,0,5)\n",
    "    g.connect(2,1,4)\n",
    "    g.connect(3,2,10)\n",
    "    g.connect(4,5,1)\n",
    "    g.connect(5,4,3)\n",
    "    g.display()\n"
   ]
  }
 ],
 "metadata": {
  "kernelspec": {
   "display_name": "Python 3",
   "language": "python",
   "name": "python3"
  },
  "language_info": {
   "codemirror_mode": {
    "name": "ipython",
    "version": 3
   },
   "file_extension": ".py",
   "mimetype": "text/x-python",
   "name": "python",
   "nbconvert_exporter": "python",
   "pygments_lexer": "ipython3",
   "version": "3.10.6"
  }
 },
 "nbformat": 4,
 "nbformat_minor": 2
}
