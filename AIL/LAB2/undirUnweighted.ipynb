{
 "cells": [
  {
   "cell_type": "code",
   "execution_count": 5,
   "metadata": {},
   "outputs": [],
   "source": [
    "class Graph:\n",
    "    def __init__(self):\n",
    "        self.adj_list = dict()\n",
    "\n",
    "    def connect(self, vertex1, vertex2):\n",
    "        self.adj_list.setdefault(vertex1, []).append(vertex2)\n",
    "        self.adj_list.setdefault(vertex2, []).append(vertex1)\n",
    "    \n",
    "    def matrix(self):\n",
    "        vertices = len(self.adj_list)\n",
    "        mapping = dict(zip(sorted(self.adj_list.keys()), range(vertices)))\n",
    "        mat = [[0]*vertices for _ in range(vertices)]\n",
    "        for key in self.adj_list:\n",
    "            for i in self.adj_list[key]:\n",
    "                mat[mapping[key]][mapping[i]] = 1\n",
    "        return mat\n",
    "    \n",
    "    \n",
    "    def display(self):\n",
    "        for key,val in self.adj_list.items():\n",
    "            print(f\"{key} : {val}\")\n"
   ]
  },
  {
   "cell_type": "code",
   "execution_count": 10,
   "metadata": {},
   "outputs": [
    {
     "name": "stdout",
     "output_type": "stream",
     "text": [
      "0 : [1, 2]\n",
      "1 : [0, 2, 2]\n",
      "2 : [1, 0, 1, 3]\n",
      "3 : [2]\n",
      "4 : [5, 5]\n",
      "5 : [4, 4]\n",
      "[0, 1, 1, 0, 0, 0]\n",
      "[1, 0, 1, 0, 0, 0]\n",
      "[1, 1, 0, 1, 0, 0]\n",
      "[0, 0, 1, 0, 0, 0]\n",
      "[0, 0, 0, 0, 0, 1]\n",
      "[0, 0, 0, 0, 1, 0]\n"
     ]
    }
   ],
   "source": [
    "class main:\n",
    "    g = Graph()\n",
    "    g.connect(0,1)\n",
    "    g.connect(1,2)\n",
    "    g.connect(2,0)\n",
    "    g.connect(2,1)\n",
    "    g.connect(3,2)\n",
    "    g.connect(4,5)\n",
    "    g.connect(5,4)\n",
    "    g.display()\n",
    "    for i in g.matrix():\n",
    "        print(i)\n"
   ]
  },
  {
   "cell_type": "code",
   "execution_count": null,
   "metadata": {},
   "outputs": [],
   "source": []
  }
 ],
 "metadata": {
  "kernelspec": {
   "display_name": "Python 3",
   "language": "python",
   "name": "python3"
  },
  "language_info": {
   "codemirror_mode": {
    "name": "ipython",
    "version": 3
   },
   "file_extension": ".py",
   "mimetype": "text/x-python",
   "name": "python",
   "nbconvert_exporter": "python",
   "pygments_lexer": "ipython3",
   "version": "3.11.7"
  }
 },
 "nbformat": 4,
 "nbformat_minor": 2
}
