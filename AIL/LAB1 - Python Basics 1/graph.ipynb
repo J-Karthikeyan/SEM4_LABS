{
 "cells": [
  {
   "cell_type": "markdown",
   "metadata": {},
   "source": [
    "## GRAPH\n",
    "(adjacnecy list and matrix)"
   ]
  },
  {
   "cell_type": "code",
   "execution_count": 1,
   "metadata": {},
   "outputs": [],
   "source": [
    "class Graph:\n",
    "    def __init__(self):\n",
    "        self.adj_list = {}\n",
    "        self.adj_mat = []\n",
    "    def connect(self, from_vertex, to_vertex, weight):\n",
    "        if str(from_vertex) not in self.adj_list:\n",
    "            self.adj_list.update({str(from_vertex) : [[to_vertex, weight]]})\n",
    "        else:\n",
    "            self.adj_list[str(from_vertex)].append([to_vertex,weight])\n",
    "    \n",
    "    def matrix(self):\n",
    "        self.adj_mat = [[0]*len(self.adj_list) for _ in range(len(self.adj_list))]\n",
    "        for key in self.adj_list:\n",
    "            for to_vertex, weight in self.adj_list[key]:\n",
    "                self.adj_mat[int(key) - 1][to_vertex - 1] = weight\n"
   ]
  },
  {
   "cell_type": "markdown",
   "metadata": {},
   "source": [
    "## Main Function"
   ]
  },
  {
   "cell_type": "code",
   "execution_count": 2,
   "metadata": {},
   "outputs": [
    {
     "name": "stdout",
     "output_type": "stream",
     "text": [
      "{'1': [[2, 1], [3, 1]], '2': [[3, 3]], '3': [[4, 4]], '4': [[1, 5]]}\n",
      "[[0, 1, 1, 0], [0, 0, 3, 0], [0, 0, 0, 4], [5, 0, 0, 0]]\n"
     ]
    }
   ],
   "source": [
    "class main:\n",
    "    g = Graph()\n",
    "    g.connect(1,2,1)\n",
    "    g.connect(1,3,1)\n",
    "    g.connect(2,3,3)\n",
    "    g.connect(3,4,4)\n",
    "    g.connect(4,1,5)\n",
    "\n",
    "    g.matrix()\n",
    "    print(g.adj_list, g.adj_mat, sep=\"\\n\")\n",
    "\n",
    "if __name__ == \"__main__\":\n",
    "    main()\n"
   ]
  },
  {
   "cell_type": "code",
   "execution_count": null,
   "metadata": {},
   "outputs": [],
   "source": []
  }
 ],
 "metadata": {
  "kernelspec": {
   "display_name": "Python 3",
   "language": "python",
   "name": "python3"
  },
  "language_info": {
   "codemirror_mode": {
    "name": "ipython",
    "version": 3
   },
   "file_extension": ".py",
   "mimetype": "text/x-python",
   "name": "python",
   "nbconvert_exporter": "python",
   "pygments_lexer": "ipython3",
   "version": "3.10.6"
  }
 },
 "nbformat": 4,
 "nbformat_minor": 2
}
